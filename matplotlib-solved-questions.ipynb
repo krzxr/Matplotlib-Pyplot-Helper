{
 "cells": [
  {
   "cell_type": "markdown",
   "metadata": {},
   "source": [
    "# ggPlot\n",
    "Import, and use ggplot as plot style and serif as font "
   ]
  },
  {
   "cell_type": "code",
   "execution_count": null,
   "metadata": {},
   "outputs": [],
   "source": [
    "import matplotlib as mpl\n",
    "from matplotlib import pyplot as plt \n",
    "import pandas as pd \n",
    "plt.style.use('ggplot')\n",
    "plt.rc('font', family='serif')\n"
   ]
  },
  {
   "cell_type": "markdown",
   "metadata": {},
   "source": [
    "# Change color and line styles\n",
    "Q: How to change color, line, marker, and width of line?\n",
    "\n",
    "syntax: mpl.cycler(<Object1 (ex: color)>=[options....]\n",
    "\n",
    "                    +<Object2 (ex:line)>=[options....]...)\n",
    "                    \n",
    "                    \n",
    "Note: number of options per object must match. Otherwise there will be an error."
   ]
  },
  {
   "cell_type": "code",
   "execution_count": null,
   "metadata": {},
   "outputs": [],
   "source": [
    "mpl.rcParams['axes.prop_cycle'] = (mpl.cycler(color=[\"#324DBE\", \"#248EA6\", \"#25C7D9\", \"#F2D338\",\"#F2762E\", \"#F23030\"])+\n",
    "                                   mpl.cycler(linestyle=['--', '-.', '-','-','-.','--'])+\n",
    "                                   mpl.cycler(marker=['o','v','^','s','+','x'])+\n",
    "                                   mpl.cycler(lw=[1, 1, 1, 1,1,1]))"
   ]
  },
  {
   "cell_type": "markdown",
   "metadata": {},
   "source": [
    "# Legends\n",
    "\n",
    "Q: How to merge the legends of 2 plots? \n",
    "\n",
    "syntax: \n",
    "\n",
    "    fig, ax = ...\n",
    "    fig2, ax = ...\n",
    "\n",
    "    ax.legend(handles = [legend_for_plot_1, legend_for_plot_1], title=\"title\", loc=\"lower left\", prop=font)\n",
    "\n",
    "    # For fonts (move to above if interested) (from matplotlib.font_manager import FontProperties)\n",
    "    font = FontProperties()\n",
    "    font.set_size('xx-small')\n",
    "\n",
    "    \n",
    "    \n",
    "Q: How to label if we plot with Numpy arrays scatter plots with color as legend??"
   ]
  },
  {
   "cell_type": "code",
   "execution_count": 1,
   "metadata": {
    "ExecuteTime": {
     "end_time": "2020-09-27T02:15:10.629323Z",
     "start_time": "2020-09-27T02:15:10.061682Z"
    }
   },
   "outputs": [],
   "source": [
    "import matplotlib.patches as mpatches\n",
    "\n",
    "colors = ['#1f77b4', '#ff7f0e', '#2ca02c', '#d62728', '#9467bd', '#8c564b', '#e377c2', '#7f7f7f', '#bcbd22', '#17becf']\n",
    "\n",
    "def plot_tsne(X, Y, labels,title):\n",
    "    colorChoice = Y # assume we pick color based on Y\n",
    "    for i in range(10):\n",
    "        colorChoice=colorChoice.astype(str)\n",
    "        colorY = np.where(colorChoice==str(i),color[i],colorChoice)\n",
    "    \n",
    "    fig, ax = plt.subplots()\n",
    "    scatter = ax.scatter(X, Y, c=colorChoice)\n",
    "\n",
    "    font = FontProperties()\n",
    "    font.set_size('xx-small')\n",
    "    colorLegend = [mpatches.Patch(color=i, label=\"class \"+str(labels[index])) for index,i in enumerate(colors)]\n",
    "    ax.legend(handles=colorLegend, title=\"Classes\", loc='lower left', prop=font)\n",
    "    plt.title(title)\n",
    "    plt.savefig(title)\n",
    "    plt.show()"
   ]
  },
  {
   "cell_type": "code",
   "execution_count": null,
   "metadata": {},
   "outputs": [],
   "source": []
  }
 ],
 "metadata": {
  "kernelspec": {
   "display_name": "Python 3",
   "language": "python",
   "name": "python3"
  },
  "language_info": {
   "codemirror_mode": {
    "name": "ipython",
    "version": 3
   },
   "file_extension": ".py",
   "mimetype": "text/x-python",
   "name": "python",
   "nbconvert_exporter": "python",
   "pygments_lexer": "ipython3",
   "version": "3.7.5"
  },
  "toc": {
   "base_numbering": 1,
   "nav_menu": {},
   "number_sections": true,
   "sideBar": true,
   "skip_h1_title": false,
   "title_cell": "Table of Contents",
   "title_sidebar": "Contents",
   "toc_cell": false,
   "toc_position": {},
   "toc_section_display": true,
   "toc_window_display": false
  }
 },
 "nbformat": 4,
 "nbformat_minor": 4
}
